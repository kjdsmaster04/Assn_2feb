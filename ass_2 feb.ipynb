{
 "cells": [
  {
   "cell_type": "code",
   "execution_count": 1,
   "id": "fb793bfd-ff43-4384-9145-8ce9a1362934",
   "metadata": {},
   "outputs": [
    {
     "name": "stdout",
     "output_type": "stream",
     "text": [
      "its a while loop\n",
      "its a while loop\n",
      "its a while loop\n",
      "its a while loop\n",
      "its a while loop\n"
     ]
    }
   ],
   "source": [
    "# while loop - in while loop, 1st it will check the given condition and then execute the loop till the condition become false\n",
    "#syntax - while condition:\n",
    " #           statement\n",
    "# example- \n",
    "\n",
    "i=0\n",
    "while (i<5):\n",
    "    i=i+1\n",
    "    print(\"its a while loop\")\n",
    " "
   ]
  },
  {
   "cell_type": "code",
   "execution_count": 3,
   "id": "1dade007-781d-4ecc-b593-0fe3ab61eab9",
   "metadata": {},
   "outputs": [
    {
     "name": "stdout",
     "output_type": "stream",
     "text": [
      "its a for loop\n",
      "its a for loop\n",
      "its a for loop\n",
      "its a for loop\n",
      "its a for loop\n"
     ]
    }
   ],
   "source": [
    "# for loop- it is use in sequece for extracting data from string , list , tuples dictionary \n",
    "\n",
    "#for i (iterator) in sequence:\n",
    "    #statement\n",
    "    \n",
    "# example \n",
    "\n",
    "i=5\n",
    "\n",
    "for i in range(0,i):\n",
    "    print(\"its a for loop\")\n"
   ]
  },
  {
   "cell_type": "code",
   "execution_count": null,
   "id": "aa1db4dd-6a70-4a92-9bbf-fad8fc1491b9",
   "metadata": {},
   "outputs": [],
   "source": [
    "# Q-2 \n",
    "\n",
    "# with while loop \n",
    "\n",
    "i=1\n",
    "s=0\n",
    "p=1\n",
    "\n",
    "while (i<=10):\n",
    "    s=s+i\n",
    "    p=p*i\n",
    "\n",
    "print(\"sum of 1st 10 natural number-\",s)\n",
    "print(\"product of 1st 10 natural number-\",p)"
   ]
  },
  {
   "cell_type": "code",
   "execution_count": null,
   "id": "90304a34-bd9f-4ddd-aef4-8e8628663249",
   "metadata": {},
   "outputs": [],
   "source": []
  },
  {
   "cell_type": "code",
   "execution_count": null,
   "id": "b59f6f90-84b8-4506-ac4f-ffc3b40a501d",
   "metadata": {},
   "outputs": [],
   "source": [
    "print(\"sum of 1st 10 natural number-\")"
   ]
  },
  {
   "cell_type": "code",
   "execution_count": 10,
   "id": "8dfebe45-d00f-42ef-b373-7390a02fbdc8",
   "metadata": {},
   "outputs": [
    {
     "name": "stdin",
     "output_type": "stream",
     "text": [
      " 310\n"
     ]
    },
    {
     "name": "stdout",
     "output_type": "stream",
     "text": [
      "the billing amount is 2250\n"
     ]
    }
   ],
   "source": [
    "# answer-3 \n",
    "\n",
    "unit=input()\n",
    "bill_amount=0\n",
    "\n",
    "type(unit)\n",
    "\n",
    "unit=int(unit)\n",
    "\n",
    "type(unit)\n",
    "\n",
    "if unit<=100:\n",
    "    bill_amount=4.5*unit\n",
    "elif unit<=200:\n",
    "    bill_amount= 450+6*(unit-100)\n",
    "elif unit<=300:\n",
    "    bill_amount=450+600+10*(unit-200)\n",
    "else:\n",
    "    bill_amount=450+600+1000+20*(unit-300)\n",
    "\n",
    "print(\"the billing amount is \",bill_amount)"
   ]
  },
  {
   "cell_type": "code",
   "execution_count": null,
   "id": "9c25b4ee-e7f0-4e10-b0a4-4fcf916cee05",
   "metadata": {},
   "outputs": [],
   "source": []
  },
  {
   "cell_type": "code",
   "execution_count": null,
   "id": "1edb1bea-e089-4a5d-9914-450e32ca2e55",
   "metadata": {},
   "outputs": [],
   "source": []
  },
  {
   "cell_type": "code",
   "execution_count": 1,
   "id": "149e9178-d0c9-4aa9-91fe-6f469d81f820",
   "metadata": {},
   "outputs": [
    {
     "name": "stdout",
     "output_type": "stream",
     "text": [
      "[0, 2, 4, 5, 6, 8, 10, 12, 14, 15, 16, 18, 20, 22, 24, 25, 26, 28, 30, 32, 34, 35, 36, 38, 40, 42, 44, 45, 46, 48, 50, 52, 54, 55, 56, 58, 60, 62, 64, 65, 66, 68, 70, 72, 74, 75, 76, 78, 80, 82, 84, 85, 86, 88, 90, 92, 94, 95, 96, 98, 100]\n"
     ]
    }
   ],
   "source": [
    "#answer 4-\n",
    "# with for loop\n",
    "list=[]\n",
    "cube=0\n",
    "\n",
    "for i in range(0,101):\n",
    "    cube=i*i*i\n",
    "    if cube % 4==0 or cube % 5==0:\n",
    "        list.append(i)\n",
    "\n",
    "print(list)"
   ]
  },
  {
   "cell_type": "code",
   "execution_count": 1,
   "id": "142277f5-2842-4afd-bd46-ec48795e3d90",
   "metadata": {},
   "outputs": [
    {
     "name": "stdout",
     "output_type": "stream",
     "text": [
      "[2, 4, 5, 6, 8, 10, 12, 14, 15, 16, 18, 20, 22, 24, 25, 26, 28, 30, 32, 34, 35, 36, 38, 40, 42, 44, 45, 46, 48, 50, 52, 54, 55, 56, 58, 60, 62, 64, 65, 66, 68, 70, 72, 74, 75, 76, 78, 80, 82, 84, 85, 86, 88, 90, 92, 94, 95, 96, 98, 100]\n"
     ]
    }
   ],
   "source": [
    "#answer 4 with while loop\n",
    "\n",
    "i=1\n",
    "cube=0\n",
    "list=[]\n",
    "while (i<=100):\n",
    "    cube=i*i*i\n",
    "    if cube % 4==0 or cube % 5==0:\n",
    "        list.append(i)\n",
    "    i=i+1\n",
    "\n",
    "print(list)"
   ]
  },
  {
   "cell_type": "code",
   "execution_count": 4,
   "id": "f1c3dda2-ff47-420f-a0dc-5f3d310b0c85",
   "metadata": {},
   "outputs": [
    {
     "name": "stdout",
     "output_type": "stream",
     "text": [
      "12\n"
     ]
    }
   ],
   "source": [
    "# answer 5 \n",
    "\n",
    "string = \"I want to become a data scientist\"\n",
    "count=0\n",
    "vowel = set(\"aeiouAEIOU\")\n",
    "for i in string:\n",
    "    if i in vowel:\n",
    "        count=count+1\n",
    "print(count)\n"
   ]
  },
  {
   "cell_type": "code",
   "execution_count": null,
   "id": "4792a3cb-153e-403f-8796-df28d85075fc",
   "metadata": {},
   "outputs": [],
   "source": []
  },
  {
   "cell_type": "code",
   "execution_count": null,
   "id": "ba6e9940-6251-410d-92f1-e886b81eff58",
   "metadata": {},
   "outputs": [],
   "source": []
  },
  {
   "cell_type": "code",
   "execution_count": null,
   "id": "90034f8e-8e99-41f9-9947-c637b042aca9",
   "metadata": {},
   "outputs": [],
   "source": []
  },
  {
   "cell_type": "code",
   "execution_count": null,
   "id": "5561641b-3b2a-4b01-b38d-000d315212f0",
   "metadata": {},
   "outputs": [],
   "source": []
  },
  {
   "cell_type": "code",
   "execution_count": null,
   "id": "501f4cbc-5674-4ae7-92ed-0b6c47b28a7d",
   "metadata": {},
   "outputs": [],
   "source": []
  },
  {
   "cell_type": "code",
   "execution_count": null,
   "id": "f7150f58-e729-45a6-8a76-0989416b5c14",
   "metadata": {},
   "outputs": [],
   "source": []
  },
  {
   "cell_type": "code",
   "execution_count": null,
   "id": "17bce004-420f-4dfc-b4b8-2dcb07bdef7e",
   "metadata": {},
   "outputs": [],
   "source": []
  },
  {
   "cell_type": "code",
   "execution_count": null,
   "id": "d5b2e208-8493-49b6-8942-2645edef1c8d",
   "metadata": {},
   "outputs": [],
   "source": []
  },
  {
   "cell_type": "code",
   "execution_count": null,
   "id": "f729228d-4fc1-420a-be84-286d98d9f4f0",
   "metadata": {},
   "outputs": [],
   "source": []
  },
  {
   "cell_type": "code",
   "execution_count": null,
   "id": "6ef701c2-fd70-42e9-92ad-28e744e0fd4f",
   "metadata": {},
   "outputs": [],
   "source": []
  },
  {
   "cell_type": "code",
   "execution_count": null,
   "id": "2eb418ca-5557-4de2-8bcb-7a8e8a6286e4",
   "metadata": {},
   "outputs": [],
   "source": []
  },
  {
   "cell_type": "code",
   "execution_count": null,
   "id": "23f49a64-ff13-4e1a-a440-16e56cc5bbd2",
   "metadata": {},
   "outputs": [],
   "source": []
  },
  {
   "cell_type": "code",
   "execution_count": null,
   "id": "3416d127-e21f-4902-89ad-12826e64dd06",
   "metadata": {},
   "outputs": [],
   "source": []
  },
  {
   "cell_type": "code",
   "execution_count": null,
   "id": "ff3d9ea4-86ff-4335-9d19-4452c242826b",
   "metadata": {},
   "outputs": [],
   "source": []
  },
  {
   "cell_type": "code",
   "execution_count": null,
   "id": "435ff215-0911-4b78-95c6-a1460c93bce2",
   "metadata": {},
   "outputs": [],
   "source": []
  },
  {
   "cell_type": "code",
   "execution_count": null,
   "id": "57095d89-fd47-4686-803f-df8fd66f76be",
   "metadata": {},
   "outputs": [],
   "source": []
  },
  {
   "cell_type": "code",
   "execution_count": null,
   "id": "e35d63f8-35b2-42f4-a6bb-3b250bb26466",
   "metadata": {},
   "outputs": [],
   "source": []
  },
  {
   "cell_type": "code",
   "execution_count": null,
   "id": "989aa8cf-5bd4-45b8-ae4e-0377ee913875",
   "metadata": {},
   "outputs": [],
   "source": []
  },
  {
   "cell_type": "code",
   "execution_count": null,
   "id": "226505c0-2590-4544-9f6d-d39b6b917722",
   "metadata": {},
   "outputs": [],
   "source": []
  },
  {
   "cell_type": "code",
   "execution_count": null,
   "id": "5980d401-345d-41ba-a39a-39e8658fb1d6",
   "metadata": {},
   "outputs": [],
   "source": []
  },
  {
   "cell_type": "code",
   "execution_count": null,
   "id": "52f9b3c9-4b81-402c-b309-384058770b19",
   "metadata": {},
   "outputs": [],
   "source": []
  },
  {
   "cell_type": "code",
   "execution_count": null,
   "id": "7ca15964-3a1e-4885-9f0a-27ccb840e454",
   "metadata": {},
   "outputs": [],
   "source": []
  },
  {
   "cell_type": "code",
   "execution_count": null,
   "id": "f7394a9a-2608-4a8a-ac46-aa9a897ea6dd",
   "metadata": {},
   "outputs": [],
   "source": []
  },
  {
   "cell_type": "code",
   "execution_count": null,
   "id": "903b7468-573d-4d82-a92a-36698867d9bb",
   "metadata": {},
   "outputs": [],
   "source": []
  },
  {
   "cell_type": "code",
   "execution_count": null,
   "id": "719ea206-f569-48eb-8fbe-1eff3b732961",
   "metadata": {},
   "outputs": [],
   "source": []
  },
  {
   "cell_type": "code",
   "execution_count": null,
   "id": "a3a392f6-694b-4a95-9b88-f399a07d80f8",
   "metadata": {},
   "outputs": [],
   "source": []
  },
  {
   "cell_type": "code",
   "execution_count": null,
   "id": "284955cc-6cab-4599-b791-b17fbf811435",
   "metadata": {},
   "outputs": [],
   "source": []
  },
  {
   "cell_type": "code",
   "execution_count": null,
   "id": "2f945c74-a793-430a-b784-8e2a80d2ba0d",
   "metadata": {},
   "outputs": [],
   "source": []
  },
  {
   "cell_type": "code",
   "execution_count": null,
   "id": "66241f0b-f440-4de2-99fc-b47712710f47",
   "metadata": {},
   "outputs": [],
   "source": []
  },
  {
   "cell_type": "code",
   "execution_count": null,
   "id": "5e72ed51-e19a-48d6-ad02-10bed57d0c12",
   "metadata": {},
   "outputs": [],
   "source": []
  },
  {
   "cell_type": "code",
   "execution_count": null,
   "id": "96349f8c-99de-4bc8-ba0c-c03ff761a493",
   "metadata": {},
   "outputs": [],
   "source": []
  },
  {
   "cell_type": "code",
   "execution_count": null,
   "id": "fcc9d06c-47df-4fe6-8527-ab34f9c484e7",
   "metadata": {},
   "outputs": [],
   "source": []
  },
  {
   "cell_type": "code",
   "execution_count": null,
   "id": "6b76c6d8-e7fc-428e-862a-7868f9396f70",
   "metadata": {},
   "outputs": [],
   "source": []
  },
  {
   "cell_type": "code",
   "execution_count": null,
   "id": "8793b2be-9ee7-40e2-9f2e-24eff62d0503",
   "metadata": {},
   "outputs": [],
   "source": []
  },
  {
   "cell_type": "code",
   "execution_count": null,
   "id": "20234b6c-615a-46dd-ac22-b610fa28dbd4",
   "metadata": {},
   "outputs": [],
   "source": []
  },
  {
   "cell_type": "code",
   "execution_count": null,
   "id": "33647f96-d7cd-45c3-b147-5ac5f256ba37",
   "metadata": {},
   "outputs": [],
   "source": []
  },
  {
   "cell_type": "code",
   "execution_count": null,
   "id": "7b7e9e04-14d4-4b97-a28d-95446f50f4a2",
   "metadata": {},
   "outputs": [],
   "source": []
  },
  {
   "cell_type": "code",
   "execution_count": null,
   "id": "2fdcd402-65fc-4e5b-b86d-9ffddb243af3",
   "metadata": {},
   "outputs": [],
   "source": []
  },
  {
   "cell_type": "code",
   "execution_count": null,
   "id": "38795457-a4b0-4d64-884b-d71e55c819ff",
   "metadata": {},
   "outputs": [],
   "source": []
  },
  {
   "cell_type": "code",
   "execution_count": null,
   "id": "460e64dd-7bbe-47d3-9389-e3f0b1d63d85",
   "metadata": {},
   "outputs": [],
   "source": []
  },
  {
   "cell_type": "code",
   "execution_count": null,
   "id": "c39eba09-1ead-434a-9a17-9412ccfdda59",
   "metadata": {},
   "outputs": [],
   "source": []
  },
  {
   "cell_type": "code",
   "execution_count": null,
   "id": "9a8fcdc9-eb32-45bd-970d-dd934b8ab201",
   "metadata": {},
   "outputs": [],
   "source": []
  },
  {
   "cell_type": "code",
   "execution_count": null,
   "id": "03814355-1d39-48cc-ab2f-dc02a1f02ad3",
   "metadata": {},
   "outputs": [],
   "source": []
  },
  {
   "cell_type": "code",
   "execution_count": null,
   "id": "24658d15-45a7-4d6b-bbba-46abd697d3db",
   "metadata": {},
   "outputs": [],
   "source": []
  },
  {
   "cell_type": "code",
   "execution_count": null,
   "id": "84a6fb44-6cec-4c23-ac8c-581f6b47f86f",
   "metadata": {},
   "outputs": [],
   "source": []
  }
 ],
 "metadata": {
  "kernelspec": {
   "display_name": "Python 3 (ipykernel)",
   "language": "python",
   "name": "python3"
  },
  "language_info": {
   "codemirror_mode": {
    "name": "ipython",
    "version": 3
   },
   "file_extension": ".py",
   "mimetype": "text/x-python",
   "name": "python",
   "nbconvert_exporter": "python",
   "pygments_lexer": "ipython3",
   "version": "3.10.8"
  }
 },
 "nbformat": 4,
 "nbformat_minor": 5
}
